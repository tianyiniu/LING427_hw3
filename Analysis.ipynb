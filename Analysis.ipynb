{
 "cells": [
  {
   "cell_type": "code",
   "execution_count": 1,
   "metadata": {},
   "outputs": [],
   "source": [
    "import pandas as pd\n",
    "\n",
    "# Read the data downloaded from WALS\n",
    "df_81A = pd.read_csv('81A.txt', sep='\\t')\n",
    "df_26A = pd.read_csv(\"26A.txt\", sep=\"\\t\")\n",
    "\n",
    "# Drop unnecessary columns\n",
    "cols_to_drop = [\"value\", \"latitude\", \"longitude\", \"area\"]\n",
    "df_81A = df_81A.drop(columns=cols_to_drop, axis=1)\n",
    "df_26A = df_26A.drop(columns=cols_to_drop, axis=1)\n",
    "\n",
    "# Rename columns of interest\n",
    "df_81A = df_81A.rename(columns={\"wals code\": \"wals_code\", \"description\": \"description_81A\"})\n",
    "df_26A = df_26A.rename(columns={\"wals code\": \"wals_code\", \"description\": \"description_26A\"})\n",
    "\n",
    "# Merge the two dataframes\n",
    "merge_columns = [\"wals_code\", \"name\", \"genus\", \"family\"] # Define merge condition\n",
    "df_merged = df_81A.merge(df_26A, on=merge_columns)\n",
    "\n",
    "# Combine strongly and weakly suffixing/prefixing into just suffixing/prefixing\n",
    "df_merged = df_merged.replace(\"Strongly suffixing\", \"Suffixing\").replace(\"Weakly suffixing\", \"Suffixing\")\n",
    "df_merged = df_merged.replace(\"Strong prefixing\", \"Prefixing\").replace(\"Weakly prefixing\", \"Prefixing\")"
   ]
  },
  {
   "cell_type": "code",
   "execution_count": 2,
   "metadata": {},
   "outputs": [
    {
     "name": "stdout",
     "output_type": "stream",
     "text": [
      "Columns in dataframe (Available data per languages): ['wals_code', 'name', 'description_81A', 'genus', 'family', 'description_26A']\n",
      "Length of dataframe (Number of languages): 876\n",
      "Possible Affixings: ['Suffixing' 'Equal prefixing and suffixing' 'Little affixation'\n",
      " 'Prefixing']\n",
      "Possible word orders: ['SVO' 'SOV' 'No dominant order' 'VSO' 'VOS' 'OVS']\n"
     ]
    }
   ],
   "source": [
    "# Print merged dataframe basic info\n",
    "cols_merged = [col for col in df_merged.columns]\n",
    "print(f\"Columns in dataframe (Available data per languages): {cols_merged}\")\n",
    "print(f\"Length of dataframe (Number of languages): {len(df_merged)}\")\n",
    "print(f\"Possible Affixings: {df_merged.description_26A.unique()}\")\n",
    "print(f\"Possible word orders: {df_merged.description_81A.unique()}\")\n",
    "\n",
    "# Format accroding to Step 2 chart, write to csv\n",
    "df_step2 = df_merged.drop(columns=[\"wals_code\", \"genus\"])\n",
    "df_step2 = df_step2.rename(columns={\"name\": \"Language\", \"family\": \"Language Family\", \"description_81A\": \"Basic Order\", \"description_26A\": \"Affixes\"})\n",
    "df_step2 = df_step2.reindex(columns=[\"Language\", \"Language Family\", \"Affixes\", \"Basic Order\"])\n",
    "df_step2.to_csv(\"step2_chart\", index=False)"
   ]
  },
  {
   "cell_type": "code",
   "execution_count": 6,
   "metadata": {},
   "outputs": [
    {
     "name": "stdout",
     "output_type": "stream",
     "text": [
      "Suffixing/SOV : 276\n",
      "Suffixing/SVO : 92\n",
      "Prefixing/SVO : 81\n",
      "Little affixation/SVO : 72\n",
      "Suffixing/No dominant order : 69\n",
      "Equal prefixing and suffixing/SVO : 43\n",
      "Equal prefixing and suffixing/SOV : 42\n",
      "Little affixation/SOV : 29\n",
      "Equal prefixing and suffixing/No dominant order : 27\n",
      "Prefixing/No dominant order : 22\n",
      "Suffixing/VSO : 19\n",
      "Prefixing/SOV : 19\n",
      "Equal prefixing and suffixing/VSO : 16\n",
      "Prefixing/VSO : 15\n",
      "Little affixation/VSO : 15\n",
      "Little affixation/No dominant order : 12\n",
      "Equal prefixing and suffixing/VOS : 7\n",
      "Prefixing/VOS : 5\n",
      "Little affixation/VOS : 5\n",
      "Suffixing/VOS : 3\n",
      "Suffixing/OVS : 3\n",
      "Equal prefixing and suffixing/OVS : 3\n",
      "Little affixation/OVS : 1\n"
     ]
    }
   ],
   "source": [
    "\"\"\"Sort languages according to Word Order + Affixing Combination\"\"\"\n",
    "affix_word_order = {}\n",
    "\n",
    "for row in df_merged.itertuples():\n",
    "    wals_code, affixing, word_order = row.wals_code, row.description_26A, row.description_81A\n",
    "    combination_name = f\"{affixing}/{word_order}\"\n",
    "    if combination_name in affix_word_order:\n",
    "        affix_word_order[combination_name].append(wals_code)\n",
    "    else:\n",
    "        affix_word_order[combination_name] = [wals_code]\n",
    "\n",
    "# Order dictionary from most common combination to least common\n",
    "affix_word_order = dict(sorted(affix_word_order.items(), key=lambda item: len(item[1]), reverse=True))\n",
    "for key,vals in affix_word_order.items():\n",
    "    print(f\"{key} : {len(vals)}\")\n"
   ]
  },
  {
   "cell_type": "code",
   "execution_count": 15,
   "metadata": {},
   "outputs": [
    {
     "name": "stdout",
     "output_type": "stream",
     "text": [
      "Total number of langauges in database: 876\n",
      "\n",
      "Priors for Word Order:\n",
      "SOV : 0.418\n",
      "SVO : 0.329\n",
      "No dominant order : 0.148\n",
      "VSO : 0.074\n",
      "VOS : 0.023\n",
      "OVS : 0.008\n",
      "\n",
      "Priors for Affixing:\n",
      "Suffixing : 0.527\n",
      "Prefixing : 0.162\n",
      "Equal prefixing and suffixing : 0.158\n",
      "Little affixation : 0.153\n"
     ]
    }
   ],
   "source": [
    "\"\"\"Find the prior probabilities of word order and affixing\"\"\"\n",
    "\n",
    "def count_to_probs(count_dict, total, round_digits=3):\n",
    "    \"\"\"Helper function that divides each value in dict by a constant number\"\"\"\n",
    "    for key, value in count_dict.items():\n",
    "        count_dict[key] = round(value/total, round_digits)\n",
    "\n",
    "# Number of languages\n",
    "NUM_LANGS = len(df_merged)\n",
    "print(f\"Total number of langauges in database: {NUM_LANGS}\")\n",
    "\n",
    "# Calculate prior probabilities for Word Order and Affixing\n",
    "wo_priors = {}\n",
    "affixing_priors = {}\n",
    "for row in df_merged.itertuples():\n",
    "    affixing, word_order = row.description_26A, row.description_81A\n",
    "    if word_order in wo_priors:\n",
    "        wo_priors[word_order] += 1\n",
    "    else:\n",
    "        wo_priors[word_order] = 1\n",
    "    if affixing in affixing_priors:\n",
    "        affixing_priors[affixing] += 1\n",
    "    else: \n",
    "        affixing_priors[affixing] = 1\n",
    "\n",
    "# Sort and print priors for Word Order\n",
    "print(\"\\nPriors for Word Order:\")\n",
    "count_to_probs(wo_priors, NUM_LANGS)\n",
    "wo_priors = dict(sorted(wo_priors.items(), key=lambda item: item[1], reverse=True))\n",
    "for key,vals in wo_priors.items():\n",
    "    print(f\"{key} : {vals}\")\n",
    "\n",
    "# Sort and print priors for Affixing\n",
    "print(\"\\nPriors for Affixing:\")\n",
    "count_to_probs(affixing_priors, NUM_LANGS)\n",
    "affixing_priors = dict(sorted(affixing_priors.items(), key=lambda item: item[1], reverse=True))\n",
    "for key,vals in affixing_priors.items():\n",
    "    print(f\"{key} : {vals}\")"
   ]
  },
  {
   "cell_type": "code",
   "execution_count": 17,
   "metadata": {},
   "outputs": [],
   "source": [
    "\"\"\" \n",
    "Group data by language family, sort languages in each family by word order + affixing combination \n",
    "# {\"language family\": {\"weak/SOV\": [\"code1\", \"code2\"], \"strong/SOV\": []\"code3\", \"code4\"], ...} , ...}\n",
    "\"\"\"\n",
    "\n",
    "lang_families = {}\n",
    "\n",
    "for row in df_merged.itertuples():\n",
    "    wals_code, affixing, word_order, family = row.wals_code, row.description_26A, row.description_81A, row.family\n",
    "    combination = (affixing, word_order)\n",
    "    if family not in lang_families:\n",
    "        lang_families[family] = {combination: [wals_code]}\n",
    "    else: \n",
    "        # Family already exists in language dict\n",
    "        if combination not in lang_families[family]: # Current combination does not exist in family\n",
    "            lang_families[family][combination] = [wals_code]\n",
    "        else: # Current combination does exist in family \n",
    "            lang_families[family][combination].append(wals_code)\n",
    "\n",
    "\n",
    "with open(\"num_combinations_grouped_by_family.txt\", \"w\", encoding=\"utf-8\") as f:\n",
    "    for family, family_dict in lang_families.items():\n",
    "        f.write(f\"Language Family: {family}\\n\")\n",
    "        for combination, wals_codes in family_dict.items():\n",
    "            f.write(f\"\\t{combination}: {len(wals_codes)}\\n\")\n",
    "        f.write(\"\\n\")\n",
    "\n",
    "with open(\"langs_combinations_grouped_by_family.txt\", \"w\", encoding=\"utf-8\") as f:\n",
    "    for family, family_dict in lang_families.items():\n",
    "        f.write(f\"Language Family: {family}\\n\")\n",
    "        for combination, wals_codes in family_dict.items():\n",
    "            f.write(f\"\\t{combination}: {wals_codes}\\n\")\n",
    "        f.write(\"\\n\")"
   ]
  },
  {
   "cell_type": "code",
   "execution_count": 41,
   "metadata": {},
   "outputs": [
    {
     "name": "stdout",
     "output_type": "stream",
     "text": [
      "[('Afro-Asiatic', 50), ('Altaic', 23), ('Austronesian', 104), ('Central Sudanic', 19), ('Eastern Sudanic', 32), ('Indo-European', 51), ('Niger-Congo', 73), ('Oto-Manguean', 17), ('Pama-Nyungan', 38), ('Sino-Tibetan', 50), ('Trans-New Guinea', 41), ('Uto-Aztecan', 24)]\n",
      "\n",
      "\n"
     ]
    }
   ],
   "source": [
    "\"\"\"Calculates joint probability of Word Order and Affix per family\"\"\"\n",
    "from copy import deepcopy\n",
    "\n",
    "# Number of languages in each family \n",
    "family_counts = []\n",
    "family_counts_dict = {}\n",
    "for family in lang_families:\n",
    "    count = sum([len(lang_list) for lang_list in lang_families[family].values()])\n",
    "    family_counts.append((family, count))\n",
    "    family_counts_dict[family] = count\n",
    "\n",
    "family_counts =  sorted(family_counts, key=lambda tup: tup[1], reverse=True)\n",
    "\n",
    "# Only tabulate statistics for langauge families with more than 15 languages\n",
    "interested_families = [family for family in family_counts if family[1] >= 15]\n",
    "interested_families = sorted(interested_families, key=lambda tup: tup[0], reverse=False) # Sort families in alphabetical order\n",
    "print(interested_families)\n",
    "print(\"\\n\")\n",
    "\n",
    "# Calculate joint probabilities of word order and affixing per language family\n",
    "joint_probs_lang_families = deepcopy(lang_families)\n",
    "for family,count in interested_families:\n",
    "    combinations_dict = joint_probs_lang_families[family]\n",
    "    for combination in combinations_dict:\n",
    "        lang_list = combinations_dict[combination]\n",
    "        combinations_dict[combination] = (round(len(lang_list) / count, 3), len(lang_list))\n",
    "\n",
    "# Write results to file\n",
    "with open(\"joint_statistics_per_family_cleaned.txt\", \"w\", encoding=\"utf-8\") as f:\n",
    "    for family,count in interested_families:\n",
    "        f.write(f\"Family name: {family} ({count})\\n\")\n",
    "        combinations_dict = joint_probs_lang_families[family]\n",
    "        combinations_dict = dict(sorted(combinations_dict.items(), key=lambda x:x[1][1], reverse=True))\n",
    "        for combination, tup in combinations_dict.items():\n",
    "            probs, counts = tup\n",
    "            f.write(f\"\\t{combination}: {probs} ({counts})\\n\")\n",
    "        f.write(\"\\n\")"
   ]
  }
 ],
 "metadata": {
  "kernelspec": {
   "display_name": "venv",
   "language": "python",
   "name": "python3"
  },
  "language_info": {
   "codemirror_mode": {
    "name": "ipython",
    "version": 3
   },
   "file_extension": ".py",
   "mimetype": "text/x-python",
   "name": "python",
   "nbconvert_exporter": "python",
   "pygments_lexer": "ipython3",
   "version": "3.9.13"
  },
  "orig_nbformat": 4,
  "vscode": {
   "interpreter": {
    "hash": "2c25f87f1455b9ee457a5fd3eb7c8410c7cc8735896f594ed82ab016906656a8"
   }
  }
 },
 "nbformat": 4,
 "nbformat_minor": 2
}
